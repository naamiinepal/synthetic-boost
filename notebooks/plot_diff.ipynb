{
 "cells": [
  {
   "cell_type": "code",
   "execution_count": 105,
   "metadata": {},
   "outputs": [],
   "source": [
    "from pathlib import Path\n",
    "\n",
    "import pandas as pd\n",
    "import numpy as np\n",
    "from matplotlib import pyplot as plt\n",
    "\n",
    "from scipy import stats"
   ]
  },
  {
   "cell_type": "code",
   "execution_count": 106,
   "metadata": {},
   "outputs": [],
   "source": [
    "prompt_num = 3"
   ]
  },
  {
   "cell_type": "code",
   "execution_count": 107,
   "metadata": {},
   "outputs": [],
   "source": [
    "root_dir = Path(\"/mnt/Enterprise/rabin/VL-Seg/\")"
   ]
  },
  {
   "cell_type": "code",
   "execution_count": 108,
   "metadata": {},
   "outputs": [],
   "source": [
    "lower_csv = root_dir / f\"sdm_camus_metrics/cris/p{prompt_num}/metrics.csv\""
   ]
  },
  {
   "cell_type": "code",
   "execution_count": 109,
   "metadata": {},
   "outputs": [],
   "source": [
    "higher_csv = root_dir / f\"camus_metrics/cris/p{prompt_num}/metrics.csv\""
   ]
  },
  {
   "cell_type": "code",
   "execution_count": 198,
   "metadata": {},
   "outputs": [],
   "source": [
    "def get_df(csv_path):\n",
    "    df = pd.read_csv(csv_path, usecols=[\"filename\", \"dice\", \"iou\"])\n",
    "    df.filename = df.filename.apply(lambda x: \"/\".join(x.rsplit(\"/\", 2)[1:]))\n",
    "    return df.set_index(\"filename\", verify_integrity=True).sort_index()"
   ]
  },
  {
   "cell_type": "code",
   "execution_count": 199,
   "metadata": {},
   "outputs": [],
   "source": [
    "lower_df = get_df(lower_csv)"
   ]
  },
  {
   "cell_type": "code",
   "execution_count": 200,
   "metadata": {},
   "outputs": [
    {
     "data": {
      "text/html": [
       "<div>\n",
       "<style scoped>\n",
       "    .dataframe tbody tr th:only-of-type {\n",
       "        vertical-align: middle;\n",
       "    }\n",
       "\n",
       "    .dataframe tbody tr th {\n",
       "        vertical-align: top;\n",
       "    }\n",
       "\n",
       "    .dataframe thead th {\n",
       "        text-align: right;\n",
       "    }\n",
       "</style>\n",
       "<table border=\"1\" class=\"dataframe\">\n",
       "  <thead>\n",
       "    <tr style=\"text-align: right;\">\n",
       "      <th></th>\n",
       "      <th>iou</th>\n",
       "      <th>dice</th>\n",
       "    </tr>\n",
       "    <tr>\n",
       "      <th>filename</th>\n",
       "      <th></th>\n",
       "      <th></th>\n",
       "    </tr>\n",
       "  </thead>\n",
       "  <tbody>\n",
       "    <tr>\n",
       "      <th>mask_1/patient0001_2CH_ED_gt.png</th>\n",
       "      <td>90.0687</td>\n",
       "      <td>94.7749</td>\n",
       "    </tr>\n",
       "    <tr>\n",
       "      <th>mask_1/patient0001_2CH_ES_gt.png</th>\n",
       "      <td>89.0929</td>\n",
       "      <td>94.2319</td>\n",
       "    </tr>\n",
       "    <tr>\n",
       "      <th>mask_1/patient0001_4CH_ED_gt.png</th>\n",
       "      <td>88.8992</td>\n",
       "      <td>94.1234</td>\n",
       "    </tr>\n",
       "    <tr>\n",
       "      <th>mask_1/patient0001_4CH_ES_gt.png</th>\n",
       "      <td>89.7335</td>\n",
       "      <td>94.5890</td>\n",
       "    </tr>\n",
       "    <tr>\n",
       "      <th>mask_1/patient0002_2CH_ED_gt.png</th>\n",
       "      <td>86.0461</td>\n",
       "      <td>92.4997</td>\n",
       "    </tr>\n",
       "  </tbody>\n",
       "</table>\n",
       "</div>"
      ],
      "text/plain": [
       "                                      iou     dice\n",
       "filename                                          \n",
       "mask_1/patient0001_2CH_ED_gt.png  90.0687  94.7749\n",
       "mask_1/patient0001_2CH_ES_gt.png  89.0929  94.2319\n",
       "mask_1/patient0001_4CH_ED_gt.png  88.8992  94.1234\n",
       "mask_1/patient0001_4CH_ES_gt.png  89.7335  94.5890\n",
       "mask_1/patient0002_2CH_ED_gt.png  86.0461  92.4997"
      ]
     },
     "execution_count": 200,
     "metadata": {},
     "output_type": "execute_result"
    }
   ],
   "source": [
    "lower_df.head()"
   ]
  },
  {
   "cell_type": "code",
   "execution_count": 201,
   "metadata": {},
   "outputs": [],
   "source": [
    "higher_df = get_df(higher_csv)"
   ]
  },
  {
   "cell_type": "code",
   "execution_count": 202,
   "metadata": {},
   "outputs": [
    {
     "data": {
      "text/html": [
       "<div>\n",
       "<style scoped>\n",
       "    .dataframe tbody tr th:only-of-type {\n",
       "        vertical-align: middle;\n",
       "    }\n",
       "\n",
       "    .dataframe tbody tr th {\n",
       "        vertical-align: top;\n",
       "    }\n",
       "\n",
       "    .dataframe thead th {\n",
       "        text-align: right;\n",
       "    }\n",
       "</style>\n",
       "<table border=\"1\" class=\"dataframe\">\n",
       "  <thead>\n",
       "    <tr style=\"text-align: right;\">\n",
       "      <th></th>\n",
       "      <th>iou</th>\n",
       "      <th>dice</th>\n",
       "    </tr>\n",
       "    <tr>\n",
       "      <th>filename</th>\n",
       "      <th></th>\n",
       "      <th></th>\n",
       "    </tr>\n",
       "  </thead>\n",
       "  <tbody>\n",
       "    <tr>\n",
       "      <th>mask_1/patient0001_2CH_ED_gt.png</th>\n",
       "      <td>92.1889</td>\n",
       "      <td>95.9357</td>\n",
       "    </tr>\n",
       "    <tr>\n",
       "      <th>mask_1/patient0001_2CH_ES_gt.png</th>\n",
       "      <td>87.4412</td>\n",
       "      <td>93.2999</td>\n",
       "    </tr>\n",
       "    <tr>\n",
       "      <th>mask_1/patient0001_4CH_ED_gt.png</th>\n",
       "      <td>91.2298</td>\n",
       "      <td>95.4138</td>\n",
       "    </tr>\n",
       "    <tr>\n",
       "      <th>mask_1/patient0001_4CH_ES_gt.png</th>\n",
       "      <td>90.7312</td>\n",
       "      <td>95.1404</td>\n",
       "    </tr>\n",
       "    <tr>\n",
       "      <th>mask_1/patient0002_2CH_ED_gt.png</th>\n",
       "      <td>86.2830</td>\n",
       "      <td>92.6365</td>\n",
       "    </tr>\n",
       "  </tbody>\n",
       "</table>\n",
       "</div>"
      ],
      "text/plain": [
       "                                      iou     dice\n",
       "filename                                          \n",
       "mask_1/patient0001_2CH_ED_gt.png  92.1889  95.9357\n",
       "mask_1/patient0001_2CH_ES_gt.png  87.4412  93.2999\n",
       "mask_1/patient0001_4CH_ED_gt.png  91.2298  95.4138\n",
       "mask_1/patient0001_4CH_ES_gt.png  90.7312  95.1404\n",
       "mask_1/patient0002_2CH_ED_gt.png  86.2830  92.6365"
      ]
     },
     "execution_count": 202,
     "metadata": {},
     "output_type": "execute_result"
    }
   ],
   "source": [
    "higher_df.head()"
   ]
  },
  {
   "cell_type": "code",
   "execution_count": 208,
   "metadata": {},
   "outputs": [],
   "source": [
    "# Get the difference of each metric for each filename from higher_df and lower_df\n",
    "diff_df = higher_df.copy()\n",
    "\n",
    "for column in diff_df.columns:\n",
    "    diff_df[column] -= lower_df[column].values"
   ]
  },
  {
   "cell_type": "code",
   "execution_count": 209,
   "metadata": {},
   "outputs": [
    {
     "data": {
      "text/html": [
       "<div>\n",
       "<style scoped>\n",
       "    .dataframe tbody tr th:only-of-type {\n",
       "        vertical-align: middle;\n",
       "    }\n",
       "\n",
       "    .dataframe tbody tr th {\n",
       "        vertical-align: top;\n",
       "    }\n",
       "\n",
       "    .dataframe thead th {\n",
       "        text-align: right;\n",
       "    }\n",
       "</style>\n",
       "<table border=\"1\" class=\"dataframe\">\n",
       "  <thead>\n",
       "    <tr style=\"text-align: right;\">\n",
       "      <th></th>\n",
       "      <th>iou</th>\n",
       "      <th>dice</th>\n",
       "    </tr>\n",
       "    <tr>\n",
       "      <th>filename</th>\n",
       "      <th></th>\n",
       "      <th></th>\n",
       "    </tr>\n",
       "  </thead>\n",
       "  <tbody>\n",
       "    <tr>\n",
       "      <th>mask_1/patient0001_2CH_ED_gt.png</th>\n",
       "      <td>2.1202</td>\n",
       "      <td>1.1608</td>\n",
       "    </tr>\n",
       "    <tr>\n",
       "      <th>mask_1/patient0001_2CH_ES_gt.png</th>\n",
       "      <td>-1.6517</td>\n",
       "      <td>-0.9320</td>\n",
       "    </tr>\n",
       "    <tr>\n",
       "      <th>mask_1/patient0001_4CH_ED_gt.png</th>\n",
       "      <td>2.3306</td>\n",
       "      <td>1.2904</td>\n",
       "    </tr>\n",
       "    <tr>\n",
       "      <th>mask_1/patient0001_4CH_ES_gt.png</th>\n",
       "      <td>0.9977</td>\n",
       "      <td>0.5514</td>\n",
       "    </tr>\n",
       "    <tr>\n",
       "      <th>mask_1/patient0002_2CH_ED_gt.png</th>\n",
       "      <td>0.2369</td>\n",
       "      <td>0.1368</td>\n",
       "    </tr>\n",
       "  </tbody>\n",
       "</table>\n",
       "</div>"
      ],
      "text/plain": [
       "                                     iou    dice\n",
       "filename                                        \n",
       "mask_1/patient0001_2CH_ED_gt.png  2.1202  1.1608\n",
       "mask_1/patient0001_2CH_ES_gt.png -1.6517 -0.9320\n",
       "mask_1/patient0001_4CH_ED_gt.png  2.3306  1.2904\n",
       "mask_1/patient0001_4CH_ES_gt.png  0.9977  0.5514\n",
       "mask_1/patient0002_2CH_ED_gt.png  0.2369  0.1368"
      ]
     },
     "execution_count": 209,
     "metadata": {},
     "output_type": "execute_result"
    }
   ],
   "source": [
    "diff_df.head()"
   ]
  },
  {
   "cell_type": "code",
   "execution_count": 213,
   "metadata": {},
   "outputs": [
    {
     "data": {
      "text/plain": [
       "iou     5.606525\n",
       "dice    3.992619\n",
       "dtype: float64"
      ]
     },
     "execution_count": 213,
     "metadata": {},
     "output_type": "execute_result"
    }
   ],
   "source": [
    "diff_df.mean(numeric_only=True)"
   ]
  },
  {
   "cell_type": "code",
   "execution_count": 214,
   "metadata": {},
   "outputs": [],
   "source": [
    "def plot_column(column, ax, n_samples=1000):\n",
    "    column_data = diff_df[column]\n",
    "    ax.hist(column_data, bins=\"auto\", density=True, label=\"Hist\")\n",
    "\n",
    "    df, mu, sigma = stats.t.fit(column_data)\n",
    "\n",
    "    xmin, xmax = ax.get_xlim()\n",
    "    x = np.linspace(xmin, xmax, n_samples)\n",
    "    p = stats.t.pdf(x, df, mu, sigma)\n",
    "    ax.plot(x, p, label=\"t-dist\")\n",
    "\n",
    "    ax.set_title(\n",
    "        f\"{column.title()} with $\\mu={mu:.2f}$, $\\sigma={sigma:.2f}$, $\\\\nu={df:.2f}$\"\n",
    "    )\n",
    "    ax.legend()"
   ]
  },
  {
   "cell_type": "code",
   "execution_count": 215,
   "metadata": {},
   "outputs": [
    {
     "data": {
      "image/png": "[encoded data removed]",
      "text/plain": [
       "<Figure size 1000x500 with 2 Axes>"
      ]
     },
     "metadata": {},
     "output_type": "display_data"
    }
   ],
   "source": [
    "fig, (ax1, ax2) = plt.subplots(1, 2, figsize=(10, 5))\n",
    "\n",
    "plot_column(\"dice\", ax1)\n",
    "plot_column(\"iou\", ax2)"
   ]
  },
  {
   "cell_type": "code",
   "execution_count": 216,
   "metadata": {},
   "outputs": [
    {
     "data": {
      "text/plain": [
       "TtestResult(statistic=10.977576779105217, pvalue=5.673026308785891e-26, df=599)"
      ]
     },
     "execution_count": 216,
     "metadata": {},
     "output_type": "execute_result"
    }
   ],
   "source": [
    "stats.ttest_rel(higher_df[\"dice\"], lower_df[\"dice\"], alternative=\"greater\")"
   ]
  },
  {
   "cell_type": "code",
   "execution_count": 222,
   "metadata": {},
   "outputs": [
    {
     "data": {
      "text/plain": [
       "TtestResult(statistic=12.682491049437354, pvalue=4.060844702979642e-33, df=599)"
      ]
     },
     "execution_count": 222,
     "metadata": {},
     "output_type": "execute_result"
    }
   ],
   "source": [
    "stats.ttest_rel(higher_df[\"iou\"], lower_df[\"iou\"], alternative=\"greater\")"
   ]
  },
  {
   "cell_type": "code",
   "execution_count": null,
   "metadata": {},
   "outputs": [],
   "source": []
  }
 ],
 "metadata": {
  "kernelspec": {
   "display_name": ".venv",
   "language": "python",
   "name": "python3"
  },
  "language_info": {
   "codemirror_mode": {
    "name": "ipython",
    "version": 3
   },
   "file_extension": ".py",
   "mimetype": "text/x-python",
   "name": "python",
   "nbconvert_exporter": "python",
   "pygments_lexer": "ipython3",
   "version": "3.10.6"
  },
  "orig_nbformat": 4
 },
 "nbformat": 4,
 "nbformat_minor": 2
}
